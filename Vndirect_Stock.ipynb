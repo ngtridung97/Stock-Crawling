{
 "cells": [
  {
   "cell_type": "code",
   "execution_count": null,
   "metadata": {},
   "outputs": [],
   "source": [
    "import requests\n",
    "import json\n",
    "import os\n",
    "import csv"
   ]
  },
  {
   "cell_type": "code",
   "execution_count": null,
   "metadata": {},
   "outputs": [],
   "source": [
    "stock_path = ['Industry_List.csv', 'Stock_List.csv']\n",
    "for a in stock_path:\n",
    "    if os.path.exists(a):\n",
    "        os.remove(a)"
   ]
  },
  {
   "cell_type": "code",
   "execution_count": null,
   "metadata": {},
   "outputs": [],
   "source": [
    "def get_web(url):\n",
    "    headers = {'User-Agent': 'Mozilla/5.0 (Windows NT 10.0; Win64; x64) AppleWebKit/537.36 (KHTML, like Gecko) Chrome/99.0.4844.27 Safari/537.36 Edg/99.0.1150.16'}\n",
    "    response = requests.get(url, headers=headers)\n",
    "    return response"
   ]
  },
  {
   "cell_type": "code",
   "execution_count": null,
   "metadata": {},
   "outputs": [],
   "source": [
    "def get_industry_list():\n",
    "    url = 'https://finfo-api.vndirect.com.vn/v4/industry_classification?industryLevel'\n",
    "    data = get_web(url).json()\n",
    "    page_size = data['totalElements']\n",
    "    \n",
    "    #Resize array\n",
    "    url = url + '&size=' + str(page_size)\n",
    "    data = get_web(url).json()\n",
    "\n",
    "    cate_list = []\n",
    "    i = 0\n",
    "    for d in data['data']:\n",
    "        try:\n",
    "            ind_id = d['industryCode']\n",
    "            ind_lvl = d['industryLevel']\n",
    "            parent_ind_id = 0 if 'higherLevelCode' not in d else d['higherLevelCode']\n",
    "            ind_name_eng = d['englishName']\n",
    "            ind_name_vie = d['vietnameseName']\n",
    "            element_count = d['totalCount']\n",
    "\n",
    "            cate_list.append([ind_id, ind_lvl, parent_ind_id, ind_name_eng, ind_name_vie, element_count])\n",
    "        except Exception as err:\n",
    "            print(err)\n",
    "    \n",
    "    return cate_list"
   ]
  },
  {
   "cell_type": "code",
   "execution_count": null,
   "metadata": {},
   "outputs": [],
   "source": [
    "def get_stock_list():\n",
    "    url = 'https://finfo-api.vndirect.com.vn/v4/stocks?q=type:stock,ifc~floor:HOSE,HNX,UPCOM'\n",
    "    data = get_web(url).json()\n",
    "    page_size = data['totalElements']\n",
    "    \n",
    "    #Resize array\n",
    "    url = url + '&size=' + str(page_size)\n",
    "    data = get_web(url).json()\n",
    "\n",
    "    cate_list = []\n",
    "    for d in data['data']:\n",
    "        try:\n",
    "            stock_type = d['type']\n",
    "            stock_floor = d['floor']\n",
    "            stock_code = d['code']\n",
    "            stock_stt = d['status']\n",
    "            listed_date = d['listedDate']\n",
    "            corp_id = d['companyId']\n",
    "            corp_name_eng = None if 'companyNameEng' not in d else d['companyNameEng']\n",
    "            corp_name_vie = d['companyName']\n",
    "            \n",
    "            #industry\n",
    "            industry_url = 'https://finfo-api.vndirect.com.vn/v4/industry_classification?q=codeList:' + stock_code + '~industryLevel:4'\n",
    "            industry_data = get_web(industry_url).json()\n",
    "            for a in industry_data['data']:\n",
    "                ind_id = a['industryCode']\n",
    "                ind_name_eng = a['englishName']\n",
    "                ind_name_vie = a['vietnameseName']\n",
    "\n",
    "            cate_list.append([stock_type, stock_floor, stock_code, stock_stt, listed_date, corp_id, corp_name_eng, corp_name_vie, ind_id, ind_name_eng, ind_name_vie])\n",
    "        except Exception as err:\n",
    "            print(err)\n",
    "\n",
    "    return cate_list"
   ]
  },
  {
   "cell_type": "code",
   "execution_count": null,
   "metadata": {},
   "outputs": [],
   "source": [
    "%%time\n",
    "\n",
    "industry_header = [['industry_id', 'industry_level', 'industry_parent_id', 'industry_name_eng', 'industry_name_vie', 'element_count']]\n",
    "industry_detail = get_industry_list()\n",
    "\n",
    "with open(stock_path[0], 'w', newline='', encoding='utf-8-sig') as f:\n",
    "    write = csv.writer(f)\n",
    "    write.writerows(industry_header)\n",
    "    write.writerows(industry_detail)\n",
    "    \n",
    "print('Crawl done!')"
   ]
  },
  {
   "cell_type": "code",
   "execution_count": null,
   "metadata": {},
   "outputs": [],
   "source": [
    "%%time\n",
    "\n",
    "stock_header = [['stock_type', 'stock_floor', 'stock_code', 'stock_status', 'listed_date', 'corp_id', 'corp_name_eng', 'corp_name_vie', 'industry_id', 'industry_name_eng', 'industry_name_vie']]\n",
    "stock_detail = get_stock_list()\n",
    "\n",
    "with open(stock_path[1], 'w', newline='', encoding='utf-8-sig') as f:\n",
    "    write = csv.writer(f)\n",
    "    write.writerows(stock_header)\n",
    "    write.writerows(stock_detail)\n",
    "    \n",
    "print('Crawl done!')"
   ]
  }
 ],
 "metadata": {
  "interpreter": {
   "hash": "7b1197788472a4cc6363d31adf4b1d6265b22dc7282dcb10804197892731e203"
  },
  "kernelspec": {
   "display_name": "Python 3.8.8 64-bit ('base': conda)",
   "name": "python3"
  },
  "language_info": {
   "codemirror_mode": {
    "name": "ipython",
    "version": 3
   },
   "file_extension": ".py",
   "mimetype": "text/x-python",
   "name": "python",
   "nbconvert_exporter": "python",
   "pygments_lexer": "ipython3",
   "version": "3.9.7"
  }
 },
 "nbformat": 4,
 "nbformat_minor": 2
}
