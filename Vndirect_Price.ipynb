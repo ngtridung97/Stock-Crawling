{
 "cells": [
  {
   "cell_type": "code",
   "execution_count": null,
   "metadata": {},
   "outputs": [],
   "source": [
    "import requests\n",
    "import json\n",
    "import pandas as pd\n",
    "import os\n",
    "import csv"
   ]
  },
  {
   "cell_type": "code",
   "execution_count": null,
   "metadata": {},
   "outputs": [],
   "source": [
    "stock_path = ['Stock_Price_List.csv']\n",
    "for a in stock_path:\n",
    "    if os.path.exists(a):\n",
    "        os.remove(a)"
   ]
  },
  {
   "cell_type": "code",
   "execution_count": null,
   "metadata": {},
   "outputs": [],
   "source": [
    "def get_web(url):\n",
    "    headers = {'User-Agent': 'Mozilla/5.0 (Windows NT 10.0; Win64; x64) AppleWebKit/537.36 (KHTML, like Gecko) Chrome/99.0.4844.27 Safari/537.36 Edg/99.0.1150.16'}\n",
    "    response = requests.get(url, headers=headers)\n",
    "    return response"
   ]
  },
  {
   "cell_type": "code",
   "execution_count": null,
   "metadata": {},
   "outputs": [],
   "source": [
    "def get_stock_pice(stock_code, interval_day):\n",
    "    url = 'https://finfo-api.vndirect.com.vn/v4/stock_prices?sort=date&q=code:' + stock_code\n",
    "    data = get_web(url).json()\n",
    "    page_size = data['totalElements']\n",
    "    \n",
    "    #Resize array\n",
    "    url = url + '&size=' + str(page_size)\n",
    "    data = get_web(url).json()\n",
    "\n",
    "    cate_list = []\n",
    "    i = 0\n",
    "    for d in data['data']:\n",
    "        if i < interval_day:\n",
    "            try:\n",
    "                date_time = d['date']\n",
    "                stock_type = d['type']\n",
    "                stock_floor = d['floor']\n",
    "                stock_id = d['code']\n",
    "                open_price = d['adOpen']\n",
    "                close_price = d['adClose']\n",
    "                min_price = d['adLow']\n",
    "                max_price = d['adHigh']\n",
    "                avg_price = d['adAverage']\n",
    "                vol = d['nmVolume']\n",
    "                value = d['nmValue']\n",
    "\n",
    "                cate_list.append([date_time, stock_type, stock_floor, stock_id, open_price, close_price, min_price, max_price, avg_price, vol, value])\n",
    "            except Exception as err:\n",
    "                print(err)\n",
    "            i += 1\n",
    "    \n",
    "    return cate_list"
   ]
  },
  {
   "cell_type": "code",
   "execution_count": null,
   "metadata": {},
   "outputs": [],
   "source": [
    "%%time \n",
    "\n",
    "df = pd.read_csv('Stock_List.csv')\n",
    "stock_list = df.loc[(df['stock_type']=='STOCK') & (df['stock_status']=='listed')]['stock_code'].to_list()\n",
    "interval_day = 5\n",
    "\n",
    "header = [['date_time', 'stock_type', 'stock_floor', 'stock_code', 'open_price', 'close_price', 'min_price', 'max_price', 'avg_price', 'volume', 'value']]\n",
    "detail = []\n",
    "for s in stock_list:\n",
    "    data = get_stock_pice(s, interval_day)\n",
    "    for d in data:\n",
    "        detail.append(d)\n",
    "    \n",
    "with open(stock_path[0], 'w', newline='', encoding='utf-8-sig') as f:\n",
    "    write = csv.writer(f)\n",
    "    write.writerows(header)\n",
    "    write.writerows(detail)\n",
    "    \n",
    "print('Crawl done!')"
   ]
  }
 ],
 "metadata": {
  "interpreter": {
   "hash": "7b1197788472a4cc6363d31adf4b1d6265b22dc7282dcb10804197892731e203"
  },
  "kernelspec": {
   "display_name": "Python 3.8.8 64-bit ('base': conda)",
   "name": "python3"
  },
  "language_info": {
   "codemirror_mode": {
    "name": "ipython",
    "version": 3
   },
   "file_extension": ".py",
   "mimetype": "text/x-python",
   "name": "python",
   "nbconvert_exporter": "python",
   "pygments_lexer": "ipython3",
   "version": "3.9.7"
  }
 },
 "nbformat": 4,
 "nbformat_minor": 2
}
