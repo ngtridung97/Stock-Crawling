{
 "cells": [
  {
   "cell_type": "code",
   "execution_count": null,
   "metadata": {},
   "outputs": [],
   "source": [
    "import requests\n",
    "import json\n",
    "import pandas as pd\n",
    "from datetime import date, timedelta\n",
    "import os\n",
    "import csv"
   ]
  },
  {
   "cell_type": "code",
   "execution_count": null,
   "metadata": {},
   "outputs": [],
   "source": [
    "stock_path = ['Stock_Ratio.csv']\n",
    "for a in stock_path:\n",
    "    if os.path.exists(a):\n",
    "        os.remove(a)"
   ]
  },
  {
   "cell_type": "code",
   "execution_count": null,
   "metadata": {},
   "outputs": [],
   "source": [
    "def get_web(url):\n",
    "    headers = {'User-Agent': 'Mozilla/5.0 (Windows NT 10.0; Win64; x64) AppleWebKit/537.36 (KHTML, like Gecko) Chrome/99.0.4844.27 Safari/537.36 Edg/99.0.1150.16'}\n",
    "    response = requests.get(url, headers=headers)\n",
    "    return response"
   ]
  },
  {
   "cell_type": "code",
   "execution_count": null,
   "metadata": {},
   "outputs": [],
   "source": [
    "def get_stock_ratio(stock_code, report_date):\n",
    "    url = 'https://finfo-api.vndirect.com.vn/v4/ratios?q=group:stock~code:' + stock_code + '~reportDate:' + report_date\n",
    "    data = get_web(url).json()\n",
    "    page_size = data['totalElements']\n",
    "    \n",
    "    #Resize array\n",
    "    url = url + '&sort=reportDate~code:asc~itemCode&size=' + str(page_size)\n",
    "    data = get_web(url).json()\n",
    "\n",
    "    stock_ratio_list = []\n",
    "    for d in data['data']:\n",
    "        try:\n",
    "            date_time = d['reportDate']\n",
    "            stock_type = d['group']\n",
    "            stock_id = d['code']\n",
    "            item_id = d['itemCode']\n",
    "            item_name = d['itemName']\n",
    "            value = d['value']\n",
    "\n",
    "            stock_ratio_list.append([date_time, stock_type, stock_id, item_id, item_name, value])\n",
    "        except Exception as err:\n",
    "            print(err)\n",
    "    \n",
    "    return stock_ratio_list"
   ]
  },
  {
   "cell_type": "code",
   "execution_count": null,
   "metadata": {},
   "outputs": [],
   "source": [
    "def get_trading_day_eoq():\n",
    "    url = 'https://finfo-api.vndirect.com.vn/v4/trading_calendars?q=endDayOfQuarter:true'\n",
    "    data = get_web(url).json()\n",
    "    page_size = data['totalElements']\n",
    "    \n",
    "    #Resize array\n",
    "    url = url + '&sort=date&size=' + str(page_size)\n",
    "    data = get_web(url).json()\n",
    "    \n",
    "    trading_day_eoq_list = []\n",
    "    for d in data['data']:\n",
    "        try:\n",
    "            date = d['date']\n",
    "\n",
    "            trading_day_eoq_list.append(date)\n",
    "        except Exception as err:\n",
    "            print(err)\n",
    "    \n",
    "    return trading_day_eoq_list"
   ]
  },
  {
   "cell_type": "code",
   "execution_count": null,
   "metadata": {},
   "outputs": [],
   "source": [
    "%%time\n",
    "\n",
    "detail = []\n",
    "floor = ['HOSE', 'HNX', 'UPCOM']\n",
    "for f in floor: #instead of doing this, you can get a request again\n",
    "    # Prep stock code\n",
    "    df = pd.read_csv('Stock_List.csv')\n",
    "    stock_list = df.loc[(df['stock_floor']==f)]['stock_code'].to_list()\n",
    "    stock_code = ''\n",
    "    for s in stock_list:\n",
    "        stock_code = s + ',' + stock_code\n",
    "        \n",
    "    # Prep report date\n",
    "    #date_list = ['2021-12-31']\n",
    "    start_date = date(2021,12,31).strftime('%Y-%m-%d')\n",
    "    end_date = date(2021,12,31).strftime('%Y-%m-%d')\n",
    "    #date_list = pd.date_range(start_date, end_date-timedelta(days=0), freq='d').strftime('%Y-%m-%d').to_list()\n",
    "    date_list = [dt for dt in get_trading_day_eoq() if start_date <= dt <= end_date]\n",
    "    report_date = ''\n",
    "    for d in date_list:\n",
    "        report_date = d + ',' + report_date\n",
    "        \n",
    "    data = get_stock_ratio(stock_code, report_date)\n",
    "    for d in data:\n",
    "        detail.append(d)\n",
    "\n",
    "# Prep csv\n",
    "header = [['date_time', 'stock_type', 'stock_code', 'item_id', 'item_name', 'value']]\n",
    "with open(stock_path[0], 'w', newline='', encoding='utf-8-sig') as f:\n",
    "    write = csv.writer(f)\n",
    "    write.writerows(header)\n",
    "    write.writerows(detail)\n",
    "    \n",
    "print('Crawl done!')"
   ]
  }
 ],
 "metadata": {
  "interpreter": {
   "hash": "7b1197788472a4cc6363d31adf4b1d6265b22dc7282dcb10804197892731e203"
  },
  "kernelspec": {
   "display_name": "Python 3.8.8 64-bit ('base': conda)",
   "name": "python3"
  },
  "language_info": {
   "codemirror_mode": {
    "name": "ipython",
    "version": 3
   },
   "file_extension": ".py",
   "mimetype": "text/x-python",
   "name": "python",
   "nbconvert_exporter": "python",
   "pygments_lexer": "ipython3",
   "version": "3.9.7"
  }
 },
 "nbformat": 4,
 "nbformat_minor": 2
}
