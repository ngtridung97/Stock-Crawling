{
 "cells": [
  {
   "cell_type": "code",
   "execution_count": null,
   "metadata": {},
   "outputs": [],
   "source": [
    "import requests\n",
    "import json\n",
    "import os\n",
    "import pandas as pd"
   ]
  },
  {
   "cell_type": "code",
   "execution_count": null,
   "metadata": {},
   "outputs": [],
   "source": [
    "stock_path = ['Stock_FS.csv']\n",
    "for a in stock_path:\n",
    "    if os.path.exists(a):\n",
    "        os.remove(a)"
   ]
  },
  {
   "cell_type": "code",
   "execution_count": null,
   "metadata": {},
   "outputs": [],
   "source": [
    "def get_web(url):\n",
    "    headers = {'User-Agent': 'Mozilla/5.0 (Windows NT 10.0; Win64; x64) AppleWebKit/537.36 (KHTML, like Gecko) Chrome/99.0.4844.27 Safari/537.36 Edg/99.0.1150.16'}\n",
    "    response = requests.get(url, headers=headers)\n",
    "    return response"
   ]
  },
  {
   "cell_type": "code",
   "execution_count": null,
   "metadata": {},
   "outputs": [],
   "source": [
    "def get_stock_fs(stock_code, report_date):\n",
    "    url = 'https://finfo-api.vndirect.com.vn/v4/financial_statements?q=reportType:QUARTER~code:' + stock_code + '~fiscalDate:' + report_date\n",
    "    data = get_web(url).json()\n",
    "    page_size = data['totalElements']\n",
    "    \n",
    "    #Resize array\n",
    "    url = url + '&size=' + str(page_size)\n",
    "    data = get_web(url).json()\n",
    "\n",
    "    stock_fs_list = []\n",
    "    for d in data['data']:\n",
    "        try:\n",
    "            stock_id = d['code']\n",
    "            item_code = str(d['itemCode'])\n",
    "            report_type = d['reportType']\n",
    "            model_id = str(d['modelType'])\n",
    "            value = d['numericValue']\n",
    "            fiscal_date = d['fiscalDate']\n",
    "\n",
    "            stock_fs_list.append([stock_id, item_code, report_type, model_id, value, fiscal_date])\n",
    "        except Exception as err:\n",
    "            print(err)\n",
    "    \n",
    "    return stock_fs_list"
   ]
  },
  {
   "cell_type": "code",
   "execution_count": null,
   "metadata": {},
   "outputs": [],
   "source": [
    "def get_industry_fs():\n",
    "    url = 'https://finfo-api.vndirect.com.vn/v4/financial_models?'\n",
    "    data = get_web(url).json()\n",
    "    page_size = data['totalElements']\n",
    "    \n",
    "    #Resize array\n",
    "    url = url + '&size=' + str(page_size)\n",
    "    data = get_web(url).json()\n",
    "\n",
    "    industry_fs_list = []\n",
    "    for d in data['data']:\n",
    "        try:\n",
    "            model_id = str(d['modelType'])\n",
    "            model_code = d['modelTypeName']\n",
    "            industry_name = d['companyForm']\n",
    "            item_code = str(d['itemCode'])\n",
    "            item_name = d['itemVnName']\n",
    "            display_lvl = d['displayLevel']\n",
    "            display_ord = d['displayOrder']\n",
    "            \n",
    "            industry_fs_list.append([model_id, model_code, industry_name, item_code, item_name, display_lvl, display_ord])\n",
    "        except Exception as err:\n",
    "            print(err)\n",
    "    \n",
    "    return industry_fs_list"
   ]
  },
  {
   "cell_type": "code",
   "execution_count": null,
   "metadata": {},
   "outputs": [],
   "source": [
    "%%time\n",
    "\n",
    "stock_code = 'VIB'\n",
    "report_date = '2021-12-31'\n",
    "\n",
    "industry_df = pd.DataFrame(get_industry_fs(), columns=['model_id', 'model_code', 'industry_name', 'item_code', 'item_name', 'display_level', 'display_order'])\n",
    "stock_df = pd.DataFrame(get_stock_fs(stock_code, report_date), columns=['stock_code', 'item_code', 'report_type', 'model_id', 'value', 'fiscal_date'])\n",
    "bs_df = pd.merge(industry_df, stock_df, how='inner', on=['model_id', 'item_code']).drop(columns=['model_id', 'item_code']).sort_values(by=['fiscal_date', 'stock_code', 'model_code', 'display_order'])\n",
    "bs_df.to_csv(stock_path[0], encoding='utf-8-sig', index=False)"
   ]
  }
 ],
 "metadata": {
  "interpreter": {
   "hash": "7b1197788472a4cc6363d31adf4b1d6265b22dc7282dcb10804197892731e203"
  },
  "kernelspec": {
   "display_name": "Python 3.8.8 64-bit ('base': conda)",
   "name": "python3"
  },
  "language_info": {
   "codemirror_mode": {
    "name": "ipython",
    "version": 3
   },
   "file_extension": ".py",
   "mimetype": "text/x-python",
   "name": "python",
   "nbconvert_exporter": "python",
   "pygments_lexer": "ipython3",
   "version": "3.9.7"
  }
 },
 "nbformat": 4,
 "nbformat_minor": 2
}
